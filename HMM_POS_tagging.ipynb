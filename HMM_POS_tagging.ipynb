{
 "cells": [
  {
   "cell_type": "markdown",
   "metadata": {},
   "source": [
    "## POS tagging using modified Viterbi - Submitted by Tim Kumar M B"
   ]
  },
  {
   "cell_type": "markdown",
   "metadata": {},
   "source": [
    "### Data Preparation"
   ]
  },
  {
   "cell_type": "code",
   "execution_count": 1,
   "metadata": {
    "collapsed": true
   },
   "outputs": [],
   "source": [
    "####Importing required libraries\n",
    "import nltk\n",
    "import numpy as np\n",
    "import pandas as pd\n",
    "from sklearn.model_selection import train_test_split\n",
    "from nltk.tokenize import word_tokenize\n",
    "from collections import Counter\n",
    "import time"
   ]
  },
  {
   "cell_type": "code",
   "execution_count": 2,
   "metadata": {
    "collapsed": true
   },
   "outputs": [],
   "source": [
    "####Reading the Treebank tagged sentences\n",
    "nltk_data = list(nltk.corpus.treebank.tagged_sents(tagset='universal'))"
   ]
  },
  {
   "cell_type": "code",
   "execution_count": 3,
   "metadata": {
    "collapsed": true
   },
   "outputs": [],
   "source": [
    "class HMM_Base(object):\n",
    "    '''\n",
    "    Base class to Model HMM - calculating Transition and Emission Probabilities\n",
    "    '''\n",
    "    def __init__(self,dataset,test_size=0.05):\n",
    "        self.dataset=dataset\n",
    "        \n",
    "        self.train_set, self.test_set = train_test_split(self.dataset,test_size=test_size,random_state=10)\n",
    "        self.train_tagged_words = [word_pos for sent in self.train_set for word_pos in sent]\n",
    "        self.test_tagged_words = [word_pos[0] for sent in self.test_set for word_pos in sent]\n",
    "        \n",
    "        self.V=list(set([word for word,tag in self.train_tagged_words]))\n",
    "        self.T=list(set(tag for word,tag in self.train_tagged_words))\n",
    "        self.T.sort()\n",
    "        \n",
    "        self.emissions=pd.DataFrame(np.zeros((len(self.T), len(self.V)),dtype='float32'),\n",
    "                                    index=self.T,columns=self.V)\n",
    "        self.transitions=pd.DataFrame(np.zeros((len(self.T), len(self.T)),dtype='float32'),\n",
    "                                      index=self.T,columns=self.T)\n",
    "        \n",
    "    def __call__(self):\n",
    "        self.calculate_emission_prob()\n",
    "        self.calculate_transition_prob()\n",
    "        \n",
    "    def calculate_emission_prob(self):\n",
    "        '''\n",
    "        Method to calculate Emission Probabilities\n",
    "        '''\n",
    "        lookup={}\n",
    "        for word,pos in self.train_tagged_words:\n",
    "            if pos not in lookup.keys():\n",
    "                lookup[pos]=[word]     \n",
    "            else:\n",
    "                lookup[pos].append(word)\n",
    "\n",
    "        for pos in lookup:\n",
    "            word_counter=Counter(lookup[pos])\n",
    "            for word in word_counter:\n",
    "                self.emissions.loc[pos,word] = word_counter[word]/len(lookup[pos])\n",
    "    \n",
    "    def calculate_transition_prob(self):\n",
    "        '''\n",
    "        Method to calculate Emission Probabilities\n",
    "        '''\n",
    "        lookup_tags={}\n",
    "        for index,(word,pos) in enumerate(self.train_tagged_words):\n",
    "            if pos not in lookup_tags.keys():\n",
    "                lookup_tags[pos]=[self.train_tagged_words[index+1][1]]    \n",
    "            else:\n",
    "                if index < len(self.train_tagged_words)-1:\n",
    "                    lookup_tags[pos].append(self.train_tagged_words[index+1][1])\n",
    "\n",
    "        \n",
    "        for pos in lookup_tags:\n",
    "            tags_counter=Counter(lookup_tags[pos])\n",
    "            for tag in tags_counter:\n",
    "                self.transitions.loc[pos,tag] = tags_counter[tag]/len(lookup_tags[pos])\n",
    "                \n",
    "    @staticmethod\n",
    "    def check_accuracy(test_set,tagged_seq):\n",
    "        test_base = [word_pos for sent in test_set for word_pos in sent]\n",
    "        check = [i for i, j in zip(tagged_seq, test_base) if i == j] \n",
    "        accuracy = len(check)/len(tagged_seq)\n",
    "        return accuracy\n",
    "    \n",
    "    def most_common_tag(self):\n",
    "        return Counter([tag for word,tag in self.train_tagged_words]).most_common(1)[0][0]"
   ]
  },
  {
   "cell_type": "code",
   "execution_count": 4,
   "metadata": {
    "collapsed": true
   },
   "outputs": [],
   "source": [
    "####Creating HMM object, initializing required variables and calculating required probabilities\n",
    "base_HMM=HMM_Base(nltk_data)\n",
    "base_HMM()"
   ]
  },
  {
   "cell_type": "code",
   "execution_count": 5,
   "metadata": {},
   "outputs": [
    {
     "data": {
      "text/plain": [
       "['.',\n",
       " 'ADJ',\n",
       " 'ADP',\n",
       " 'ADV',\n",
       " 'CONJ',\n",
       " 'DET',\n",
       " 'NOUN',\n",
       " 'NUM',\n",
       " 'PRON',\n",
       " 'PRT',\n",
       " 'VERB',\n",
       " 'X']"
      ]
     },
     "execution_count": 5,
     "metadata": {},
     "output_type": "execute_result"
    }
   ],
   "source": [
    "####Tags available in the selected dataset\n",
    "base_HMM.T"
   ]
  },
  {
   "cell_type": "code",
   "execution_count": 6,
   "metadata": {},
   "outputs": [
    {
     "data": {
      "text/html": [
       "<div>\n",
       "<style>\n",
       "    .dataframe thead tr:only-child th {\n",
       "        text-align: right;\n",
       "    }\n",
       "\n",
       "    .dataframe thead th {\n",
       "        text-align: left;\n",
       "    }\n",
       "\n",
       "    .dataframe tbody tr th {\n",
       "        vertical-align: top;\n",
       "    }\n",
       "</style>\n",
       "<table border=\"1\" class=\"dataframe\">\n",
       "  <thead>\n",
       "    <tr style=\"text-align: right;\">\n",
       "      <th></th>\n",
       "      <th>.</th>\n",
       "      <th>ADJ</th>\n",
       "      <th>ADP</th>\n",
       "      <th>ADV</th>\n",
       "      <th>CONJ</th>\n",
       "      <th>DET</th>\n",
       "      <th>NOUN</th>\n",
       "      <th>NUM</th>\n",
       "      <th>PRON</th>\n",
       "      <th>PRT</th>\n",
       "      <th>VERB</th>\n",
       "      <th>X</th>\n",
       "    </tr>\n",
       "  </thead>\n",
       "  <tbody>\n",
       "    <tr>\n",
       "      <th>.</th>\n",
       "      <td>0.093691</td>\n",
       "      <td>0.045080</td>\n",
       "      <td>0.090794</td>\n",
       "      <td>0.054223</td>\n",
       "      <td>0.058115</td>\n",
       "      <td>0.172898</td>\n",
       "      <td>0.217797</td>\n",
       "      <td>0.081651</td>\n",
       "      <td>0.066624</td>\n",
       "      <td>0.002444</td>\n",
       "      <td>0.088983</td>\n",
       "      <td>0.027700</td>\n",
       "    </tr>\n",
       "    <tr>\n",
       "      <th>ADJ</th>\n",
       "      <td>0.064029</td>\n",
       "      <td>0.066820</td>\n",
       "      <td>0.078148</td>\n",
       "      <td>0.004761</td>\n",
       "      <td>0.017403</td>\n",
       "      <td>0.004597</td>\n",
       "      <td>0.699393</td>\n",
       "      <td>0.020850</td>\n",
       "      <td>0.000493</td>\n",
       "      <td>0.010671</td>\n",
       "      <td>0.011821</td>\n",
       "      <td>0.021015</td>\n",
       "    </tr>\n",
       "    <tr>\n",
       "      <th>ADP</th>\n",
       "      <td>0.039484</td>\n",
       "      <td>0.106712</td>\n",
       "      <td>0.016647</td>\n",
       "      <td>0.013446</td>\n",
       "      <td>0.000854</td>\n",
       "      <td>0.325045</td>\n",
       "      <td>0.320990</td>\n",
       "      <td>0.063280</td>\n",
       "      <td>0.068829</td>\n",
       "      <td>0.001281</td>\n",
       "      <td>0.008537</td>\n",
       "      <td>0.034895</td>\n",
       "    </tr>\n",
       "    <tr>\n",
       "      <th>ADV</th>\n",
       "      <td>0.137027</td>\n",
       "      <td>0.128733</td>\n",
       "      <td>0.120770</td>\n",
       "      <td>0.078301</td>\n",
       "      <td>0.007299</td>\n",
       "      <td>0.066689</td>\n",
       "      <td>0.031520</td>\n",
       "      <td>0.032847</td>\n",
       "      <td>0.014930</td>\n",
       "      <td>0.014599</td>\n",
       "      <td>0.345720</td>\n",
       "      <td>0.021566</td>\n",
       "    </tr>\n",
       "    <tr>\n",
       "      <th>CONJ</th>\n",
       "      <td>0.035914</td>\n",
       "      <td>0.113340</td>\n",
       "      <td>0.053172</td>\n",
       "      <td>0.055037</td>\n",
       "      <td>0.000466</td>\n",
       "      <td>0.121735</td>\n",
       "      <td>0.350746</td>\n",
       "      <td>0.041511</td>\n",
       "      <td>0.059701</td>\n",
       "      <td>0.004664</td>\n",
       "      <td>0.155317</td>\n",
       "      <td>0.008396</td>\n",
       "    </tr>\n",
       "    <tr>\n",
       "      <th>DET</th>\n",
       "      <td>0.017377</td>\n",
       "      <td>0.206951</td>\n",
       "      <td>0.009050</td>\n",
       "      <td>0.012188</td>\n",
       "      <td>0.000483</td>\n",
       "      <td>0.005430</td>\n",
       "      <td>0.637867</td>\n",
       "      <td>0.021841</td>\n",
       "      <td>0.003258</td>\n",
       "      <td>0.000241</td>\n",
       "      <td>0.039218</td>\n",
       "      <td>0.046096</td>\n",
       "    </tr>\n",
       "    <tr>\n",
       "      <th>NOUN</th>\n",
       "      <td>0.238470</td>\n",
       "      <td>0.012152</td>\n",
       "      <td>0.177928</td>\n",
       "      <td>0.016947</td>\n",
       "      <td>0.042643</td>\n",
       "      <td>0.013360</td>\n",
       "      <td>0.263653</td>\n",
       "      <td>0.009810</td>\n",
       "      <td>0.004795</td>\n",
       "      <td>0.044546</td>\n",
       "      <td>0.146889</td>\n",
       "      <td>0.028807</td>\n",
       "    </tr>\n",
       "    <tr>\n",
       "      <th>NUM</th>\n",
       "      <td>0.118101</td>\n",
       "      <td>0.032938</td>\n",
       "      <td>0.035608</td>\n",
       "      <td>0.003264</td>\n",
       "      <td>0.013650</td>\n",
       "      <td>0.003264</td>\n",
       "      <td>0.355193</td>\n",
       "      <td>0.184866</td>\n",
       "      <td>0.001187</td>\n",
       "      <td>0.025816</td>\n",
       "      <td>0.017804</td>\n",
       "      <td>0.208309</td>\n",
       "    </tr>\n",
       "    <tr>\n",
       "      <th>PRON</th>\n",
       "      <td>0.039171</td>\n",
       "      <td>0.073733</td>\n",
       "      <td>0.023041</td>\n",
       "      <td>0.034562</td>\n",
       "      <td>0.005376</td>\n",
       "      <td>0.009985</td>\n",
       "      <td>0.209293</td>\n",
       "      <td>0.006912</td>\n",
       "      <td>0.007680</td>\n",
       "      <td>0.012289</td>\n",
       "      <td>0.485407</td>\n",
       "      <td>0.092550</td>\n",
       "    </tr>\n",
       "    <tr>\n",
       "      <th>PRT</th>\n",
       "      <td>0.042428</td>\n",
       "      <td>0.086162</td>\n",
       "      <td>0.021214</td>\n",
       "      <td>0.010444</td>\n",
       "      <td>0.001958</td>\n",
       "      <td>0.101501</td>\n",
       "      <td>0.249674</td>\n",
       "      <td>0.054830</td>\n",
       "      <td>0.017624</td>\n",
       "      <td>0.001958</td>\n",
       "      <td>0.399478</td>\n",
       "      <td>0.012728</td>\n",
       "    </tr>\n",
       "    <tr>\n",
       "      <th>VERB</th>\n",
       "      <td>0.035362</td>\n",
       "      <td>0.064972</td>\n",
       "      <td>0.091008</td>\n",
       "      <td>0.081293</td>\n",
       "      <td>0.005207</td>\n",
       "      <td>0.134919</td>\n",
       "      <td>0.110515</td>\n",
       "      <td>0.022072</td>\n",
       "      <td>0.036294</td>\n",
       "      <td>0.031476</td>\n",
       "      <td>0.169193</td>\n",
       "      <td>0.217689</td>\n",
       "    </tr>\n",
       "    <tr>\n",
       "      <th>X</th>\n",
       "      <td>0.162780</td>\n",
       "      <td>0.016773</td>\n",
       "      <td>0.144728</td>\n",
       "      <td>0.026038</td>\n",
       "      <td>0.010064</td>\n",
       "      <td>0.055272</td>\n",
       "      <td>0.060863</td>\n",
       "      <td>0.002875</td>\n",
       "      <td>0.054952</td>\n",
       "      <td>0.184824</td>\n",
       "      <td>0.206709</td>\n",
       "      <td>0.074121</td>\n",
       "    </tr>\n",
       "  </tbody>\n",
       "</table>\n",
       "</div>"
      ],
      "text/plain": [
       "             .       ADJ       ADP       ADV      CONJ       DET      NOUN  \\\n",
       ".     0.093691  0.045080  0.090794  0.054223  0.058115  0.172898  0.217797   \n",
       "ADJ   0.064029  0.066820  0.078148  0.004761  0.017403  0.004597  0.699393   \n",
       "ADP   0.039484  0.106712  0.016647  0.013446  0.000854  0.325045  0.320990   \n",
       "ADV   0.137027  0.128733  0.120770  0.078301  0.007299  0.066689  0.031520   \n",
       "CONJ  0.035914  0.113340  0.053172  0.055037  0.000466  0.121735  0.350746   \n",
       "DET   0.017377  0.206951  0.009050  0.012188  0.000483  0.005430  0.637867   \n",
       "NOUN  0.238470  0.012152  0.177928  0.016947  0.042643  0.013360  0.263653   \n",
       "NUM   0.118101  0.032938  0.035608  0.003264  0.013650  0.003264  0.355193   \n",
       "PRON  0.039171  0.073733  0.023041  0.034562  0.005376  0.009985  0.209293   \n",
       "PRT   0.042428  0.086162  0.021214  0.010444  0.001958  0.101501  0.249674   \n",
       "VERB  0.035362  0.064972  0.091008  0.081293  0.005207  0.134919  0.110515   \n",
       "X     0.162780  0.016773  0.144728  0.026038  0.010064  0.055272  0.060863   \n",
       "\n",
       "           NUM      PRON       PRT      VERB         X  \n",
       ".     0.081651  0.066624  0.002444  0.088983  0.027700  \n",
       "ADJ   0.020850  0.000493  0.010671  0.011821  0.021015  \n",
       "ADP   0.063280  0.068829  0.001281  0.008537  0.034895  \n",
       "ADV   0.032847  0.014930  0.014599  0.345720  0.021566  \n",
       "CONJ  0.041511  0.059701  0.004664  0.155317  0.008396  \n",
       "DET   0.021841  0.003258  0.000241  0.039218  0.046096  \n",
       "NOUN  0.009810  0.004795  0.044546  0.146889  0.028807  \n",
       "NUM   0.184866  0.001187  0.025816  0.017804  0.208309  \n",
       "PRON  0.006912  0.007680  0.012289  0.485407  0.092550  \n",
       "PRT   0.054830  0.017624  0.001958  0.399478  0.012728  \n",
       "VERB  0.022072  0.036294  0.031476  0.169193  0.217689  \n",
       "X     0.002875  0.054952  0.184824  0.206709  0.074121  "
      ]
     },
     "execution_count": 6,
     "metadata": {},
     "output_type": "execute_result"
    }
   ],
   "source": [
    "####Transition Probabilities \n",
    "base_HMM.transitions"
   ]
  },
  {
   "cell_type": "code",
   "execution_count": 7,
   "metadata": {},
   "outputs": [
    {
     "name": "stdout",
     "output_type": "stream",
     "text": [
      ".       1.0\n",
      "ADJ     1.0\n",
      "ADP     1.0\n",
      "ADV     1.0\n",
      "CONJ    1.0\n",
      "DET     1.0\n",
      "NOUN    1.0\n",
      "NUM     1.0\n",
      "PRON    1.0\n",
      "PRT     1.0\n",
      "VERB    1.0\n",
      "X       1.0\n",
      "dtype: float32\n",
      "-----------------------------------\n",
      ".       1.0\n",
      "ADJ     1.0\n",
      "ADP     1.0\n",
      "ADV     1.0\n",
      "CONJ    1.0\n",
      "DET     1.0\n",
      "NOUN    1.0\n",
      "NUM     1.0\n",
      "PRON    1.0\n",
      "PRT     1.0\n",
      "VERB    1.0\n",
      "X       1.0\n",
      "dtype: float32\n"
     ]
    }
   ],
   "source": [
    "####Checking if the probabilities sum upto to 1 \n",
    "print(base_HMM.transitions.sum(axis=1))\n",
    "print(\"-----------------------------------\")\n",
    "print(base_HMM.emissions.sum(axis=1))"
   ]
  },
  {
   "cell_type": "code",
   "execution_count": 8,
   "metadata": {
    "collapsed": true
   },
   "outputs": [],
   "source": [
    "####Provided Test cases\n",
    "test_cases=[\n",
    "\"Android is a mobile operating system developed by Google.\",\n",
    "\"Android has been the best-selling OS worldwide on smartphones since 2011 and on tablets since 2013.\",\n",
    "\"Google and Twitter made a deal in 2015 that gave Google access to Twitter's firehose.\",\n",
    "\"Twitter is an online news and social networking service on which users post and interact with messages known as tweets.\",\n",
    "\"Before entering politics, Donald Trump was a domineering businessman and a television personality.\",\n",
    "\"The 2018 FIFA World Cup is the 21st FIFA World Cup, an international football tournament contested once every four years.\",\n",
    "\"This is the first World Cup to be held in Eastern Europe and the 11th time that it has been held in Europe.\",\n",
    "\"Show me the cheapest round trips from Dallas to Atlanta\",\n",
    "\"I would like to see flights from Denver to Philadelphia.\",\n",
    "\"Show me the price of the flights leaving Atlanta at about 3 in the afternoon and arriving in San Francisco.\",\n",
    "\"NASA invited social media users to experience the launch of ICESAT-2 Satellite.\"\n",
    "]"
   ]
  },
  {
   "cell_type": "markdown",
   "metadata": {
    "collapsed": true
   },
   "source": [
    "### Build the vanilla Viterbi based POS tagger"
   ]
  },
  {
   "cell_type": "code",
   "execution_count": 9,
   "metadata": {
    "collapsed": true
   },
   "outputs": [],
   "source": [
    "class HMM_Viterbi(HMM_Base):\n",
    "    '''\n",
    "    Plain vanilla Viterbi Heuristic for POS Tagging\n",
    "    '''\n",
    "    def __init__(self,nltk_data):\n",
    "        super().__init__(nltk_data)\n",
    "        \n",
    "    \n",
    "    ####Plain Vanilla Viterbi Heuristic\n",
    "    def viterbi(self,words,test_case=False):\n",
    "        state = []\n",
    "        unknown_words=[]\n",
    "        for key, word in enumerate(words):\n",
    "            p = []\n",
    "            if word in self.V:\n",
    "                for tag in self.T:\n",
    "                    if key == 0:\n",
    "                        transition_p = self.transitions.loc['.', tag]\n",
    "                    else:\n",
    "                        transition_p = self.transitions.loc[state[-1], tag]\n",
    "                \n",
    "                    emission_p = self.emissions.loc[tag,word] \n",
    "                    state_probability = emission_p * transition_p    \n",
    "                    p.append(state_probability)\n",
    "            else:\n",
    "                p=[0] #### if the word is unknown \n",
    "                unknown_words.append(word)\n",
    "\n",
    "            pmax = max(p)\n",
    "            state_max = self.T[p.index(pmax)] \n",
    "            state.append(state_max)\n",
    "        \n",
    "        if test_case:\n",
    "            print(\"Unknown Words---->\", unknown_words)\n",
    "        return list(zip(words, state))\n"
   ]
  },
  {
   "cell_type": "code",
   "execution_count": 10,
   "metadata": {
    "collapsed": true
   },
   "outputs": [],
   "source": [
    "####Creating object of \"HMM_Viterbi\" class and perfoming the base setup\n",
    "viterbi_base=HMM_Viterbi(nltk_data)\n",
    "viterbi_base()"
   ]
  },
  {
   "cell_type": "code",
   "execution_count": 11,
   "metadata": {},
   "outputs": [
    {
     "name": "stdout",
     "output_type": "stream",
     "text": [
      "Accuracy of HMM:  0.894576012223071\n",
      "Time taken in seconds:  7.647622108459473\n"
     ]
    }
   ],
   "source": [
    "####Checking accuracy of the model\n",
    "start = time.time()\n",
    "tagged_seq=viterbi_base.viterbi(viterbi_base.test_tagged_words)\n",
    "accuracy=viterbi_base.check_accuracy(viterbi_base.test_set,tagged_seq)\n",
    "print(\"Accuracy of HMM: \", accuracy)\n",
    "print(\"Time taken in seconds: \", time.time()-start)"
   ]
  },
  {
   "cell_type": "code",
   "execution_count": 12,
   "metadata": {},
   "outputs": [
    {
     "name": "stdout",
     "output_type": "stream",
     "text": [
      "Unknown Words----> ['Android', 'Google']\n",
      "[('Android', '.'), ('is', 'VERB'), ('a', 'DET'), ('mobile', 'ADJ'), ('operating', 'NOUN'), ('system', 'NOUN'), ('developed', 'VERB'), ('by', 'ADP'), ('Google', '.'), ('.', '.')]\n",
      "====================================================================================================\n",
      "Unknown Words----> ['Android', 'OS', 'worldwide', 'smartphones', '2011', '2013']\n",
      "[('Android', '.'), ('has', 'VERB'), ('been', 'VERB'), ('the', 'DET'), ('best-selling', 'ADJ'), ('OS', '.'), ('worldwide', '.'), ('on', 'ADP'), ('smartphones', '.'), ('since', 'ADP'), ('2011', '.'), ('and', 'CONJ'), ('on', 'ADP'), ('tablets', 'NOUN'), ('since', 'ADP'), ('2013', '.'), ('.', '.')]\n",
      "====================================================================================================\n",
      "Unknown Words----> ['Google', 'Twitter', '2015', 'Google', 'Twitter', 'firehose']\n",
      "[('Google', '.'), ('and', 'CONJ'), ('Twitter', '.'), ('made', 'VERB'), ('a', 'DET'), ('deal', 'NOUN'), ('in', 'ADP'), ('2015', '.'), ('that', 'DET'), ('gave', 'VERB'), ('Google', '.'), ('access', 'NOUN'), ('to', 'PRT'), ('Twitter', '.'), (\"'s\", 'VERB'), ('firehose', '.'), ('.', '.')]\n",
      "====================================================================================================\n",
      "Unknown Words----> ['Twitter', 'online', 'interact', 'messages', 'tweets']\n",
      "[('Twitter', '.'), ('is', 'VERB'), ('an', 'DET'), ('online', '.'), ('news', 'NOUN'), ('and', 'CONJ'), ('social', 'ADJ'), ('networking', 'NOUN'), ('service', 'NOUN'), ('on', 'ADP'), ('which', 'DET'), ('users', 'NOUN'), ('post', 'NOUN'), ('and', 'CONJ'), ('interact', '.'), ('with', 'ADP'), ('messages', '.'), ('known', 'VERB'), ('as', 'ADP'), ('tweets', '.'), ('.', '.')]\n",
      "====================================================================================================\n",
      "Unknown Words----> ['domineering', 'personality']\n",
      "[('Before', 'ADP'), ('entering', 'VERB'), ('politics', 'NOUN'), (',', '.'), ('Donald', 'NOUN'), ('Trump', 'NOUN'), ('was', 'VERB'), ('a', 'DET'), ('domineering', '.'), ('businessman', 'NOUN'), ('and', 'CONJ'), ('a', 'DET'), ('television', 'NOUN'), ('personality', '.'), ('.', '.')]\n",
      "====================================================================================================\n",
      "Unknown Words----> ['2018', 'FIFA', 'Cup', '21st', 'FIFA', 'Cup', 'tournament', 'contested']\n",
      "[('The', 'DET'), ('2018', '.'), ('FIFA', '.'), ('World', 'NOUN'), ('Cup', '.'), ('is', 'VERB'), ('the', 'DET'), ('21st', '.'), ('FIFA', '.'), ('World', 'NOUN'), ('Cup', '.'), (',', '.'), ('an', 'DET'), ('international', 'ADJ'), ('football', 'NOUN'), ('tournament', '.'), ('contested', '.'), ('once', 'ADV'), ('every', 'DET'), ('four', 'NUM'), ('years', 'NOUN'), ('.', '.')]\n",
      "====================================================================================================\n",
      "Unknown Words----> ['Cup', '11th']\n",
      "[('This', 'DET'), ('is', 'VERB'), ('the', 'DET'), ('first', 'ADJ'), ('World', 'NOUN'), ('Cup', '.'), ('to', 'PRT'), ('be', 'VERB'), ('held', 'VERB'), ('in', 'ADP'), ('Eastern', 'NOUN'), ('Europe', 'NOUN'), ('and', 'CONJ'), ('the', 'DET'), ('11th', '.'), ('time', 'NOUN'), ('that', 'ADP'), ('it', 'PRON'), ('has', 'VERB'), ('been', 'VERB'), ('held', 'VERB'), ('in', 'ADP'), ('Europe', 'NOUN'), ('.', '.')]\n",
      "====================================================================================================\n",
      "Unknown Words----> ['trips']\n",
      "[('Show', 'NOUN'), ('me', 'PRON'), ('the', 'DET'), ('cheapest', 'ADJ'), ('round', 'NOUN'), ('trips', '.'), ('from', 'ADP'), ('Dallas', 'NOUN'), ('to', 'PRT'), ('Atlanta', 'NOUN')]\n",
      "====================================================================================================\n",
      "Unknown Words----> ['Denver']\n",
      "[('I', 'PRON'), ('would', 'VERB'), ('like', 'ADP'), ('to', 'PRT'), ('see', 'VERB'), ('flights', 'NOUN'), ('from', 'ADP'), ('Denver', '.'), ('to', 'PRT'), ('Philadelphia', 'NOUN'), ('.', '.')]\n",
      "====================================================================================================\n",
      "Unknown Words----> ['arriving']\n",
      "[('Show', 'NOUN'), ('me', 'PRON'), ('the', 'DET'), ('price', 'NOUN'), ('of', 'ADP'), ('the', 'DET'), ('flights', 'NOUN'), ('leaving', 'VERB'), ('Atlanta', 'NOUN'), ('at', 'ADP'), ('about', 'ADP'), ('3', 'NUM'), ('in', 'ADP'), ('the', 'DET'), ('afternoon', 'NOUN'), ('and', 'CONJ'), ('arriving', '.'), ('in', 'ADP'), ('San', 'NOUN'), ('Francisco', 'NOUN'), ('.', '.')]\n",
      "====================================================================================================\n",
      "Unknown Words----> ['NASA', 'invited', 'ICESAT-2', 'Satellite']\n",
      "[('NASA', '.'), ('invited', '.'), ('social', 'ADJ'), ('media', 'NOUN'), ('users', 'NOUN'), ('to', 'PRT'), ('experience', 'NOUN'), ('the', 'DET'), ('launch', 'NOUN'), ('of', 'ADP'), ('ICESAT-2', '.'), ('Satellite', '.'), ('.', '.')]\n",
      "====================================================================================================\n"
     ]
    }
   ],
   "source": [
    "####Evaluating Test Cases\n",
    "for sentence_test in test_cases:\n",
    "    words = word_tokenize(sentence_test)\n",
    "    tagged_seq = viterbi_base.viterbi(words,test_case=True)\n",
    "    print(tagged_seq)\n",
    "    print(\"====================================================================================================\")"
   ]
  },
  {
   "cell_type": "markdown",
   "metadata": {},
   "source": [
    "##### Observations: Accuracy of the model is 89.45% . For the unknown words, the first tag from the list of tags (T variable) is returned \n",
    "##### Lets solve the problem of unknown words using Lexicon , probabilistic and rule based approches"
   ]
  },
  {
   "cell_type": "markdown",
   "metadata": {},
   "source": [
    "### Solve the problem of unknown words"
   ]
  },
  {
   "cell_type": "markdown",
   "metadata": {},
   "source": [
    "### 1. Lexicon Based"
   ]
  },
  {
   "cell_type": "code",
   "execution_count": 13,
   "metadata": {
    "collapsed": true
   },
   "outputs": [],
   "source": [
    "class HMM_Viterbi_Lexicon(HMM_Base):\n",
    "    '''\n",
    "    Tagging unkown words using Lexicons - unigram, bigram & trigram tagger with default set \n",
    "    to the most common tag available in the dataset\n",
    "    '''\n",
    "    \n",
    "    def __init__(self,nltk_data):\n",
    "        super().__init__(nltk_data)\n",
    "        self.tagger_default = nltk.DefaultTagger(self.most_common_tag())\n",
    "        self.unigram_tagger = nltk.UnigramTagger(self.train_set,backoff=self.tagger_default)\n",
    "        self.bigram_tagger  = nltk.BigramTagger(self.train_set,backoff=self.unigram_tagger)\n",
    "        self.trigram_tagger = nltk.TrigramTagger(self.train_set,backoff=self.bigram_tagger)\n",
    "        \n",
    "  \n",
    "    def find_tag(self,word):\n",
    "        return self.trigram_tagger.tag([word])[0][1]\n",
    "\n",
    "    ####Overriding base viterbi implementation to take care of unknown words    \n",
    "    def viterbi(self,words,test_case=False):\n",
    "        state = []\n",
    "        unknown_words=[]\n",
    "        for key, word in enumerate(words):\n",
    "            p = []\n",
    "            if word in self.V:\n",
    "                for tag in self.T:\n",
    "                    if key == 0:\n",
    "                        transition_p = self.transitions.loc['.', tag]\n",
    "                    else:\n",
    "                        transition_p = self.transitions.loc[state[-1], tag]\n",
    "                \n",
    "                    emission_p = self.emissions.loc[tag,word]\n",
    "                    state_probability = emission_p * transition_p    \n",
    "                    p.append(state_probability)\n",
    "\n",
    "                pmax = max(p)\n",
    "                state_max = self.T[p.index(pmax)] \n",
    "                state.append(state_max)\n",
    "            \n",
    "            else:\n",
    "                unknown_words.append(word)\n",
    "                word_state=self.find_tag(word)\n",
    "                state.append(word_state)\n",
    "        \n",
    "        if test_case:\n",
    "            print(\"Unknown Words---->\", unknown_words)        \n",
    "        return list(zip(words, state))"
   ]
  },
  {
   "cell_type": "code",
   "execution_count": 14,
   "metadata": {
    "collapsed": true
   },
   "outputs": [],
   "source": [
    "####Creating object of \"HMM_Viterbi_Lexicon\" class and perfoming the base setup\n",
    "viterbi_lexicon=HMM_Viterbi_Lexicon(nltk_data)\n",
    "viterbi_lexicon()"
   ]
  },
  {
   "cell_type": "code",
   "execution_count": 15,
   "metadata": {},
   "outputs": [
    {
     "name": "stdout",
     "output_type": "stream",
     "text": [
      "Accuracy of HMM:  0.9409854851031322\n",
      "Time taken in seconds:  6.754146337509155\n"
     ]
    }
   ],
   "source": [
    "####Checking accuracy of the model\n",
    "start = time.time()\n",
    "tagged_seq=viterbi_lexicon.viterbi(viterbi_lexicon.test_tagged_words)\n",
    "accuracy=viterbi_lexicon.check_accuracy(viterbi_lexicon.test_set,tagged_seq)\n",
    "print(\"Accuracy of HMM: \", accuracy)\n",
    "print(\"Time taken in seconds: \", time.time()-start)"
   ]
  },
  {
   "cell_type": "code",
   "execution_count": 16,
   "metadata": {},
   "outputs": [
    {
     "name": "stdout",
     "output_type": "stream",
     "text": [
      "Unknown Words----> ['Android', 'Google']\n",
      "[('Android', 'NOUN'), ('is', 'VERB'), ('a', 'DET'), ('mobile', 'ADJ'), ('operating', 'NOUN'), ('system', 'NOUN'), ('developed', 'VERB'), ('by', 'ADP'), ('Google', 'NOUN'), ('.', '.')]\n",
      "====================================================================================================\n",
      "Unknown Words----> ['Android', 'OS', 'worldwide', 'smartphones', '2011', '2013']\n",
      "[('Android', 'NOUN'), ('has', 'VERB'), ('been', 'VERB'), ('the', 'DET'), ('best-selling', 'ADJ'), ('OS', 'NOUN'), ('worldwide', 'NOUN'), ('on', 'ADP'), ('smartphones', 'NOUN'), ('since', 'ADP'), ('2011', 'NOUN'), ('and', 'CONJ'), ('on', 'ADP'), ('tablets', 'NOUN'), ('since', 'ADP'), ('2013', 'NOUN'), ('.', '.')]\n",
      "====================================================================================================\n",
      "Unknown Words----> ['Google', 'Twitter', '2015', 'Google', 'Twitter', 'firehose']\n",
      "[('Google', 'NOUN'), ('and', 'CONJ'), ('Twitter', 'NOUN'), ('made', 'VERB'), ('a', 'DET'), ('deal', 'NOUN'), ('in', 'ADP'), ('2015', 'NOUN'), ('that', 'ADP'), ('gave', 'VERB'), ('Google', 'NOUN'), ('access', 'NOUN'), ('to', 'PRT'), ('Twitter', 'NOUN'), (\"'s\", 'PRT'), ('firehose', 'NOUN'), ('.', '.')]\n",
      "====================================================================================================\n",
      "Unknown Words----> ['Twitter', 'online', 'interact', 'messages', 'tweets']\n",
      "[('Twitter', 'NOUN'), ('is', 'VERB'), ('an', 'DET'), ('online', 'NOUN'), ('news', 'NOUN'), ('and', 'CONJ'), ('social', 'ADJ'), ('networking', 'NOUN'), ('service', 'NOUN'), ('on', 'ADP'), ('which', 'DET'), ('users', 'NOUN'), ('post', 'NOUN'), ('and', 'CONJ'), ('interact', 'NOUN'), ('with', 'ADP'), ('messages', 'NOUN'), ('known', 'VERB'), ('as', 'ADP'), ('tweets', 'NOUN'), ('.', '.')]\n",
      "====================================================================================================\n",
      "Unknown Words----> ['domineering', 'personality']\n",
      "[('Before', 'ADP'), ('entering', 'VERB'), ('politics', 'NOUN'), (',', '.'), ('Donald', 'NOUN'), ('Trump', 'NOUN'), ('was', 'VERB'), ('a', 'DET'), ('domineering', 'NOUN'), ('businessman', 'NOUN'), ('and', 'CONJ'), ('a', 'DET'), ('television', 'NOUN'), ('personality', 'NOUN'), ('.', '.')]\n",
      "====================================================================================================\n",
      "Unknown Words----> ['2018', 'FIFA', 'Cup', '21st', 'FIFA', 'Cup', 'tournament', 'contested']\n",
      "[('The', 'DET'), ('2018', 'NOUN'), ('FIFA', 'NOUN'), ('World', 'NOUN'), ('Cup', 'NOUN'), ('is', 'VERB'), ('the', 'DET'), ('21st', 'NOUN'), ('FIFA', 'NOUN'), ('World', 'NOUN'), ('Cup', 'NOUN'), (',', '.'), ('an', 'DET'), ('international', 'ADJ'), ('football', 'NOUN'), ('tournament', 'NOUN'), ('contested', 'NOUN'), ('once', 'ADV'), ('every', 'DET'), ('four', 'NUM'), ('years', 'NOUN'), ('.', '.')]\n",
      "====================================================================================================\n",
      "Unknown Words----> ['Cup', '11th']\n",
      "[('This', 'DET'), ('is', 'VERB'), ('the', 'DET'), ('first', 'ADJ'), ('World', 'NOUN'), ('Cup', 'NOUN'), ('to', 'PRT'), ('be', 'VERB'), ('held', 'VERB'), ('in', 'ADP'), ('Eastern', 'NOUN'), ('Europe', 'NOUN'), ('and', 'CONJ'), ('the', 'DET'), ('11th', 'NOUN'), ('time', 'NOUN'), ('that', 'ADP'), ('it', 'PRON'), ('has', 'VERB'), ('been', 'VERB'), ('held', 'VERB'), ('in', 'ADP'), ('Europe', 'NOUN'), ('.', '.')]\n",
      "====================================================================================================\n",
      "Unknown Words----> ['trips']\n",
      "[('Show', 'NOUN'), ('me', 'PRON'), ('the', 'DET'), ('cheapest', 'ADJ'), ('round', 'NOUN'), ('trips', 'NOUN'), ('from', 'ADP'), ('Dallas', 'NOUN'), ('to', 'PRT'), ('Atlanta', 'NOUN')]\n",
      "====================================================================================================\n",
      "Unknown Words----> ['Denver']\n",
      "[('I', 'PRON'), ('would', 'VERB'), ('like', 'ADP'), ('to', 'PRT'), ('see', 'VERB'), ('flights', 'NOUN'), ('from', 'ADP'), ('Denver', 'NOUN'), ('to', 'PRT'), ('Philadelphia', 'NOUN'), ('.', '.')]\n",
      "====================================================================================================\n",
      "Unknown Words----> ['arriving']\n",
      "[('Show', 'NOUN'), ('me', 'PRON'), ('the', 'DET'), ('price', 'NOUN'), ('of', 'ADP'), ('the', 'DET'), ('flights', 'NOUN'), ('leaving', 'VERB'), ('Atlanta', 'NOUN'), ('at', 'ADP'), ('about', 'ADP'), ('3', 'NUM'), ('in', 'ADP'), ('the', 'DET'), ('afternoon', 'NOUN'), ('and', 'CONJ'), ('arriving', 'NOUN'), ('in', 'ADP'), ('San', 'NOUN'), ('Francisco', 'NOUN'), ('.', '.')]\n",
      "====================================================================================================\n",
      "Unknown Words----> ['NASA', 'invited', 'ICESAT-2', 'Satellite']\n",
      "[('NASA', 'NOUN'), ('invited', 'NOUN'), ('social', 'ADJ'), ('media', 'NOUN'), ('users', 'NOUN'), ('to', 'PRT'), ('experience', 'NOUN'), ('the', 'DET'), ('launch', 'NOUN'), ('of', 'ADP'), ('ICESAT-2', 'NOUN'), ('Satellite', 'NOUN'), ('.', '.')]\n",
      "====================================================================================================\n"
     ]
    }
   ],
   "source": [
    "####Evaluating Test Cases\n",
    "for sentence_test in test_cases:\n",
    "    words = word_tokenize(sentence_test)\n",
    "    tagged_seq = viterbi_lexicon.viterbi(words,test_case=True)\n",
    "    print(tagged_seq)\n",
    "    print(\"====================================================================================================\")"
   ]
  },
  {
   "cell_type": "markdown",
   "metadata": {
    "collapsed": true
   },
   "source": [
    "##### Observations: Accuracy of the Lexicon model is improved to 94%. However on further analysis, its clear that almost all unknown words have been tagged as 'NOUN'"
   ]
  },
  {
   "cell_type": "markdown",
   "metadata": {},
   "source": [
    "### 2.1 Probablistic - Considering previous 2 tags"
   ]
  },
  {
   "cell_type": "markdown",
   "metadata": {},
   "source": [
    "##### Unknown words are tagged based on the highest probable tag given the previous 2 tags"
   ]
  },
  {
   "cell_type": "code",
   "execution_count": 17,
   "metadata": {
    "collapsed": true
   },
   "outputs": [],
   "source": [
    "class HMM_Viterbi_Prob_2_tags(HMM_Base):\n",
    "    '''\n",
    "    Tagging unkown words considering previous 2 tags\n",
    "    '''\n",
    "    \n",
    "    def __init__(self,nltk_data):\n",
    "        super().__init__(nltk_data)\n",
    "        self.before_2_tags={}\n",
    "        self.default_tag=self.most_common_tag()\n",
    "        \n",
    "        \n",
    "    def __call__(self):\n",
    "        super().__call__()\n",
    "        self.check_before_2_tags()      \n",
    "    \n",
    "    ####Dict holding previous 2 tags as key and current tag as value\n",
    "    def check_before_2_tags(self):\n",
    "        for sent in self.train_set:\n",
    "            for index, (word, pos) in enumerate(sent):\n",
    "                if (len(sent)>2) and (index>1) and (index<len(sent)):\n",
    "                    prev_prev_tag=sent[index-2][1]\n",
    "                    prev_tag=sent[index-1][1]\n",
    "                    if (prev_prev_tag,prev_tag) not in self.before_2_tags :\n",
    "                        self.before_2_tags[(prev_prev_tag,prev_tag)]=[pos]              \n",
    "                    else:\n",
    "                        self.before_2_tags[(prev_prev_tag,prev_tag)].append(pos)\n",
    "    \n",
    "    ####Returns most likely tag given previous 2 tags\n",
    "    def get_tag_likely(self,before_tags):\n",
    "        if before_tags in self.before_2_tags:\n",
    "            return Counter(self.before_2_tags[before_tags]).most_common(1)[0][0]\n",
    "        else:\n",
    "            return self.default_tag\n",
    "    \n",
    "    ####Overriding base viterbi implementation to take care of unknown words  \n",
    "    def viterbi(self,words,test_case=False):\n",
    "        state = []\n",
    "        unknown_words=[]\n",
    "        for key, word in enumerate(words):\n",
    "            p = []\n",
    "            if word in self.V:\n",
    "                for tag in self.T:\n",
    "                    if key == 0:\n",
    "                        transition_p = self.transitions.loc['.', tag]\n",
    "                    else:\n",
    "                        transition_p = self.transitions.loc[state[-1], tag]\n",
    "                \n",
    "                    emission_p = self.emissions.loc[tag,word]\n",
    "                    state_probability = emission_p * transition_p    \n",
    "                    p.append(state_probability)\n",
    "\n",
    "                pmax = max(p)\n",
    "                state_max = self.T[p.index(pmax)] \n",
    "                state.append(state_max)\n",
    "            \n",
    "            else:\n",
    "                unknown_words.append(word)\n",
    "                if key>1 and (words[key-1] in self.V )and (words[key-2] in self.V) and (key<len(words)):\n",
    "                    prev_tag=state[-1]\n",
    "                    next_tag=state[-2]\n",
    "                    #print(word,prev_tag,next_tag)\n",
    "                    word_state=self.get_tag_likely((prev_tag,next_tag))\n",
    "                \n",
    "                else:   \n",
    "                    word_state=self.default_tag\n",
    "\n",
    "                state.append(word_state)\n",
    "        \n",
    "        if test_case:\n",
    "            print(\"Unknown Words---->\", unknown_words)\n",
    "        return list(zip(words, state))"
   ]
  },
  {
   "cell_type": "code",
   "execution_count": 18,
   "metadata": {
    "collapsed": true
   },
   "outputs": [],
   "source": [
    "####Creating object of \"HMM_Viterbi_Prob_2_tags\" class and perfoming the base setup\n",
    "viterbi_probabilistic_2tags=HMM_Viterbi_Prob_2_tags(nltk_data)\n",
    "viterbi_probabilistic_2tags()"
   ]
  },
  {
   "cell_type": "code",
   "execution_count": 19,
   "metadata": {},
   "outputs": [
    {
     "name": "stdout",
     "output_type": "stream",
     "text": [
      "Accuracy of HMM:  0.9323911382734912\n",
      "Time taken in seconds:  8.159297227859497\n"
     ]
    }
   ],
   "source": [
    "####Checking accuracy of the model\n",
    "start = time.time()\n",
    "tagged_seq=viterbi_probabilistic_2tags.viterbi(viterbi_probabilistic_2tags.test_tagged_words)\n",
    "accuracy=viterbi_probabilistic_2tags.check_accuracy(viterbi_probabilistic_2tags.test_set,tagged_seq)\n",
    "print(\"Accuracy of HMM: \", accuracy)\n",
    "print(\"Time taken in seconds: \", time.time()-start)"
   ]
  },
  {
   "cell_type": "code",
   "execution_count": 20,
   "metadata": {},
   "outputs": [
    {
     "name": "stdout",
     "output_type": "stream",
     "text": [
      "Unknown Words----> ['Android', 'Google']\n",
      "[('Android', 'NOUN'), ('is', 'VERB'), ('a', 'DET'), ('mobile', 'ADJ'), ('operating', 'NOUN'), ('system', 'NOUN'), ('developed', 'VERB'), ('by', 'ADP'), ('Google', 'NOUN'), ('.', '.')]\n",
      "====================================================================================================\n",
      "Unknown Words----> ['Android', 'OS', 'worldwide', 'smartphones', '2011', '2013']\n",
      "[('Android', 'NOUN'), ('has', 'VERB'), ('been', 'VERB'), ('the', 'DET'), ('best-selling', 'ADJ'), ('OS', 'NOUN'), ('worldwide', 'NOUN'), ('on', 'ADP'), ('smartphones', 'NOUN'), ('since', 'ADP'), ('2011', 'NOUN'), ('and', 'CONJ'), ('on', 'ADP'), ('tablets', 'NOUN'), ('since', 'ADP'), ('2013', 'NOUN'), ('.', '.')]\n",
      "====================================================================================================\n",
      "Unknown Words----> ['Google', 'Twitter', '2015', 'Google', 'Twitter', 'firehose']\n",
      "[('Google', 'NOUN'), ('and', 'CONJ'), ('Twitter', 'NOUN'), ('made', 'VERB'), ('a', 'DET'), ('deal', 'NOUN'), ('in', 'ADP'), ('2015', 'NOUN'), ('that', 'ADP'), ('gave', 'VERB'), ('Google', 'DET'), ('access', 'NOUN'), ('to', 'PRT'), ('Twitter', 'NOUN'), (\"'s\", 'PRT'), ('firehose', 'NOUN'), ('.', '.')]\n",
      "====================================================================================================\n",
      "Unknown Words----> ['Twitter', 'online', 'interact', 'messages', 'tweets']\n",
      "[('Twitter', 'NOUN'), ('is', 'VERB'), ('an', 'DET'), ('online', 'NOUN'), ('news', 'NOUN'), ('and', 'CONJ'), ('social', 'ADJ'), ('networking', 'NOUN'), ('service', 'NOUN'), ('on', 'ADP'), ('which', 'DET'), ('users', 'NOUN'), ('post', 'NOUN'), ('and', 'CONJ'), ('interact', 'NOUN'), ('with', 'ADP'), ('messages', 'NOUN'), ('known', 'VERB'), ('as', 'ADP'), ('tweets', 'NOUN'), ('.', '.')]\n",
      "====================================================================================================\n",
      "Unknown Words----> ['domineering', 'personality']\n",
      "[('Before', 'ADP'), ('entering', 'VERB'), ('politics', 'NOUN'), (',', '.'), ('Donald', 'NOUN'), ('Trump', 'NOUN'), ('was', 'VERB'), ('a', 'DET'), ('domineering', 'NOUN'), ('businessman', 'NOUN'), ('and', 'CONJ'), ('a', 'DET'), ('television', 'NOUN'), ('personality', 'X'), ('.', '.')]\n",
      "====================================================================================================\n",
      "Unknown Words----> ['2018', 'FIFA', 'Cup', '21st', 'FIFA', 'Cup', 'tournament', 'contested']\n",
      "[('The', 'DET'), ('2018', 'NOUN'), ('FIFA', 'NOUN'), ('World', 'NOUN'), ('Cup', 'NOUN'), ('is', 'VERB'), ('the', 'DET'), ('21st', 'NOUN'), ('FIFA', 'NOUN'), ('World', 'NOUN'), ('Cup', 'NOUN'), (',', '.'), ('an', 'DET'), ('international', 'ADJ'), ('football', 'NOUN'), ('tournament', 'NOUN'), ('contested', 'NOUN'), ('once', 'ADV'), ('every', 'DET'), ('four', 'NUM'), ('years', 'NOUN'), ('.', '.')]\n",
      "====================================================================================================\n",
      "Unknown Words----> ['Cup', '11th']\n",
      "[('This', 'DET'), ('is', 'VERB'), ('the', 'DET'), ('first', 'ADJ'), ('World', 'NOUN'), ('Cup', 'NOUN'), ('to', 'PRT'), ('be', 'VERB'), ('held', 'VERB'), ('in', 'ADP'), ('Eastern', 'NOUN'), ('Europe', 'NOUN'), ('and', 'CONJ'), ('the', 'DET'), ('11th', 'DET'), ('time', 'NOUN'), ('that', 'ADP'), ('it', 'PRON'), ('has', 'VERB'), ('been', 'VERB'), ('held', 'VERB'), ('in', 'ADP'), ('Europe', 'NOUN'), ('.', '.')]\n",
      "====================================================================================================\n",
      "Unknown Words----> ['trips']\n",
      "[('Show', 'NOUN'), ('me', 'PRON'), ('the', 'DET'), ('cheapest', 'ADJ'), ('round', 'NOUN'), ('trips', 'NOUN'), ('from', 'ADP'), ('Dallas', 'NOUN'), ('to', 'PRT'), ('Atlanta', 'NOUN')]\n",
      "====================================================================================================\n",
      "Unknown Words----> ['Denver']\n",
      "[('I', 'PRON'), ('would', 'VERB'), ('like', 'ADP'), ('to', 'PRT'), ('see', 'VERB'), ('flights', 'NOUN'), ('from', 'ADP'), ('Denver', 'NOUN'), ('to', 'PRT'), ('Philadelphia', 'NOUN'), ('.', '.')]\n",
      "====================================================================================================\n",
      "Unknown Words----> ['arriving']\n",
      "[('Show', 'NOUN'), ('me', 'PRON'), ('the', 'DET'), ('price', 'NOUN'), ('of', 'ADP'), ('the', 'DET'), ('flights', 'NOUN'), ('leaving', 'VERB'), ('Atlanta', 'NOUN'), ('at', 'ADP'), ('about', 'ADP'), ('3', 'NUM'), ('in', 'ADP'), ('the', 'DET'), ('afternoon', 'NOUN'), ('and', 'CONJ'), ('arriving', 'NOUN'), ('in', 'ADP'), ('San', 'NOUN'), ('Francisco', 'NOUN'), ('.', '.')]\n",
      "====================================================================================================\n",
      "Unknown Words----> ['NASA', 'invited', 'ICESAT-2', 'Satellite']\n",
      "[('NASA', 'NOUN'), ('invited', 'NOUN'), ('social', 'ADJ'), ('media', 'NOUN'), ('users', 'NOUN'), ('to', 'PRT'), ('experience', 'NOUN'), ('the', 'DET'), ('launch', 'NOUN'), ('of', 'ADP'), ('ICESAT-2', 'NOUN'), ('Satellite', 'NOUN'), ('.', '.')]\n",
      "====================================================================================================\n"
     ]
    }
   ],
   "source": [
    "####Evaluating Test Cases\n",
    "for sentence_test in test_cases:\n",
    "    words = word_tokenize(sentence_test)\n",
    "    tagged_seq = viterbi_probabilistic_2tags.viterbi(words,test_case=True)\n",
    "    print(tagged_seq)\n",
    "    print(\"====================================================================================================\")"
   ]
  },
  {
   "cell_type": "markdown",
   "metadata": {
    "collapsed": true
   },
   "source": [
    "##### Observations: Accuracy of the model is 93.23%. Though this approach doesn't default to \"NOUN\" on almost all cases, accuracy is pretty lower "
   ]
  },
  {
   "cell_type": "markdown",
   "metadata": {},
   "source": [
    "### 2.2 Probablistic - Considering previous tag"
   ]
  },
  {
   "cell_type": "markdown",
   "metadata": {},
   "source": [
    "##### Unknown words are tagged based on the highest probable tag given the previous tag"
   ]
  },
  {
   "cell_type": "code",
   "execution_count": 21,
   "metadata": {
    "collapsed": true
   },
   "outputs": [],
   "source": [
    "class HMM_Viterbi_Prob_1_tag(HMM_Base):\n",
    "    '''\n",
    "    Tagging unkown words considering previous tag\n",
    "    '''\n",
    "    \n",
    "    def __init__(self,nltk_data):\n",
    "        super().__init__(nltk_data)\n",
    "        self.prev_tag={}\n",
    "        self.default_tag=self.most_common_tag()       \n",
    "        \n",
    "    def __call__(self):\n",
    "        super().__call__()\n",
    "        self.previous_tag()      \n",
    "     \n",
    "    ####Creating a lookup based on trainset equivalent mapping of {(prev_tag):current_tag}\n",
    "    def previous_tag(self):\n",
    "        for sent in self.train_set:\n",
    "            for index, (word, pos) in enumerate(sent):\n",
    "                if (len(sent)>1) and (index>0) and (index<len(sent)):\n",
    "                    tag_before=sent[index-1][1]\n",
    "                    if tag_before not in self.prev_tag :\n",
    "                        self.prev_tag[tag_before]=[pos]              \n",
    "                    else:\n",
    "                        self.prev_tag[tag_before].append(pos)\n",
    "\n",
    "    ####Returns most likely tag given previous tag\n",
    "    def get_tag_likely(self,before_tag):\n",
    "        if before_tag in self.prev_tag:\n",
    "            return Counter(self.prev_tag[before_tag]).most_common(1)[0][0]\n",
    "        else:\n",
    "            return self.default_tag\n",
    "    \n",
    "    ####Overriding base viterbi implementation to take care of unknown words\n",
    "    def viterbi(self,words,test_case=False):\n",
    "        state = []\n",
    "        unknown_words=[]\n",
    "        for key, word in enumerate(words):\n",
    "            p = []\n",
    "            if word in self.V:\n",
    "                for tag in self.T:\n",
    "                    if key == 0:\n",
    "                        transition_p = self.transitions.loc['.', tag]\n",
    "                    else:\n",
    "                        transition_p = self.transitions.loc[state[-1], tag]\n",
    "                \n",
    "                    emission_p = self.emissions.loc[tag,word]\n",
    "                    state_probability = emission_p * transition_p    \n",
    "                    p.append(state_probability)\n",
    "\n",
    "                pmax = max(p)\n",
    "                state_max = self.T[p.index(pmax)] \n",
    "                state.append(state_max)\n",
    "            \n",
    "            else:\n",
    "                unknown_words.append(word)\n",
    "                if key>0 and (words[key-1] in self.V ) and (key<len(words)):\n",
    "                    before_tag=state[-1]\n",
    "                    #print(word,prev_tag)\n",
    "                    word_state=self.get_tag_likely(before_tag)\n",
    "                \n",
    "                else:   \n",
    "                    word_state=self.default_tag\n",
    "\n",
    "                state.append(word_state)\n",
    "        \n",
    "        if test_case:\n",
    "            print(\"Unknown Words---->\", unknown_words)\n",
    "        return list(zip(words, state))"
   ]
  },
  {
   "cell_type": "code",
   "execution_count": 22,
   "metadata": {
    "collapsed": true
   },
   "outputs": [],
   "source": [
    "viterbi_probabilistic_1tag=HMM_Viterbi_Prob_1_tag(nltk_data)\n",
    "viterbi_probabilistic_1tag()"
   ]
  },
  {
   "cell_type": "code",
   "execution_count": 23,
   "metadata": {},
   "outputs": [
    {
     "name": "stdout",
     "output_type": "stream",
     "text": [
      "Accuracy of HMM:  0.9415584415584416\n",
      "Time taken in seconds:  5.702728748321533\n"
     ]
    }
   ],
   "source": [
    "####Checking accuracy of the model\n",
    "start = time.time()\n",
    "tagged_seq=viterbi_probabilistic_1tag.viterbi(viterbi_probabilistic_1tag.test_tagged_words)\n",
    "accuracy=viterbi_probabilistic_1tag.check_accuracy(viterbi_probabilistic_1tag.test_set,tagged_seq)\n",
    "print(\"Accuracy of HMM: \", accuracy)\n",
    "print(\"Time taken in seconds: \", time.time()-start)"
   ]
  },
  {
   "cell_type": "code",
   "execution_count": 24,
   "metadata": {},
   "outputs": [
    {
     "name": "stdout",
     "output_type": "stream",
     "text": [
      "Unknown Words----> ['Android', 'Google']\n",
      "[('Android', 'NOUN'), ('is', 'VERB'), ('a', 'DET'), ('mobile', 'ADJ'), ('operating', 'NOUN'), ('system', 'NOUN'), ('developed', 'VERB'), ('by', 'ADP'), ('Google', 'DET'), ('.', '.')]\n",
      "====================================================================================================\n",
      "Unknown Words----> ['Android', 'OS', 'worldwide', 'smartphones', '2011', '2013']\n",
      "[('Android', 'NOUN'), ('has', 'VERB'), ('been', 'VERB'), ('the', 'DET'), ('best-selling', 'ADJ'), ('OS', 'NOUN'), ('worldwide', 'NOUN'), ('on', 'ADP'), ('smartphones', 'DET'), ('since', 'ADP'), ('2011', 'DET'), ('and', 'CONJ'), ('on', 'ADP'), ('tablets', 'NOUN'), ('since', 'ADP'), ('2013', 'DET'), ('.', '.')]\n",
      "====================================================================================================\n",
      "Unknown Words----> ['Google', 'Twitter', '2015', 'Google', 'Twitter', 'firehose']\n",
      "[('Google', 'NOUN'), ('and', 'CONJ'), ('Twitter', 'NOUN'), ('made', 'VERB'), ('a', 'DET'), ('deal', 'NOUN'), ('in', 'ADP'), ('2015', 'DET'), ('that', 'ADP'), ('gave', 'VERB'), ('Google', 'X'), ('access', 'NOUN'), ('to', 'PRT'), ('Twitter', 'VERB'), (\"'s\", 'PRT'), ('firehose', 'VERB'), ('.', '.')]\n",
      "====================================================================================================\n",
      "Unknown Words----> ['Twitter', 'online', 'interact', 'messages', 'tweets']\n",
      "[('Twitter', 'NOUN'), ('is', 'VERB'), ('an', 'DET'), ('online', 'NOUN'), ('news', 'NOUN'), ('and', 'CONJ'), ('social', 'ADJ'), ('networking', 'NOUN'), ('service', 'NOUN'), ('on', 'ADP'), ('which', 'DET'), ('users', 'NOUN'), ('post', 'NOUN'), ('and', 'CONJ'), ('interact', 'NOUN'), ('with', 'ADP'), ('messages', 'DET'), ('known', 'VERB'), ('as', 'ADP'), ('tweets', 'DET'), ('.', '.')]\n",
      "====================================================================================================\n",
      "Unknown Words----> ['domineering', 'personality']\n",
      "[('Before', 'ADP'), ('entering', 'VERB'), ('politics', 'NOUN'), (',', '.'), ('Donald', 'NOUN'), ('Trump', 'NOUN'), ('was', 'VERB'), ('a', 'DET'), ('domineering', 'NOUN'), ('businessman', 'NOUN'), ('and', 'CONJ'), ('a', 'DET'), ('television', 'NOUN'), ('personality', 'NOUN'), ('.', '.')]\n",
      "====================================================================================================\n",
      "Unknown Words----> ['2018', 'FIFA', 'Cup', '21st', 'FIFA', 'Cup', 'tournament', 'contested']\n",
      "[('The', 'DET'), ('2018', 'NOUN'), ('FIFA', 'NOUN'), ('World', 'NOUN'), ('Cup', 'NOUN'), ('is', 'VERB'), ('the', 'DET'), ('21st', 'NOUN'), ('FIFA', 'NOUN'), ('World', 'NOUN'), ('Cup', 'NOUN'), (',', '.'), ('an', 'DET'), ('international', 'ADJ'), ('football', 'NOUN'), ('tournament', 'NOUN'), ('contested', 'NOUN'), ('once', 'ADV'), ('every', 'DET'), ('four', 'NUM'), ('years', 'NOUN'), ('.', '.')]\n",
      "====================================================================================================\n",
      "Unknown Words----> ['Cup', '11th']\n",
      "[('This', 'DET'), ('is', 'VERB'), ('the', 'DET'), ('first', 'ADJ'), ('World', 'NOUN'), ('Cup', 'NOUN'), ('to', 'PRT'), ('be', 'VERB'), ('held', 'VERB'), ('in', 'ADP'), ('Eastern', 'NOUN'), ('Europe', 'NOUN'), ('and', 'CONJ'), ('the', 'DET'), ('11th', 'NOUN'), ('time', 'NOUN'), ('that', 'ADP'), ('it', 'PRON'), ('has', 'VERB'), ('been', 'VERB'), ('held', 'VERB'), ('in', 'ADP'), ('Europe', 'NOUN'), ('.', '.')]\n",
      "====================================================================================================\n",
      "Unknown Words----> ['trips']\n",
      "[('Show', 'NOUN'), ('me', 'PRON'), ('the', 'DET'), ('cheapest', 'ADJ'), ('round', 'NOUN'), ('trips', 'NOUN'), ('from', 'ADP'), ('Dallas', 'NOUN'), ('to', 'PRT'), ('Atlanta', 'NOUN')]\n",
      "====================================================================================================\n",
      "Unknown Words----> ['Denver']\n",
      "[('I', 'PRON'), ('would', 'VERB'), ('like', 'ADP'), ('to', 'PRT'), ('see', 'VERB'), ('flights', 'NOUN'), ('from', 'ADP'), ('Denver', 'DET'), ('to', 'PRT'), ('Philadelphia', 'NOUN'), ('.', '.')]\n",
      "====================================================================================================\n",
      "Unknown Words----> ['arriving']\n",
      "[('Show', 'NOUN'), ('me', 'PRON'), ('the', 'DET'), ('price', 'NOUN'), ('of', 'ADP'), ('the', 'DET'), ('flights', 'NOUN'), ('leaving', 'VERB'), ('Atlanta', 'NOUN'), ('at', 'ADP'), ('about', 'ADP'), ('3', 'NUM'), ('in', 'ADP'), ('the', 'DET'), ('afternoon', 'NOUN'), ('and', 'CONJ'), ('arriving', 'NOUN'), ('in', 'ADP'), ('San', 'NOUN'), ('Francisco', 'NOUN'), ('.', '.')]\n",
      "====================================================================================================\n",
      "Unknown Words----> ['NASA', 'invited', 'ICESAT-2', 'Satellite']\n",
      "[('NASA', 'NOUN'), ('invited', 'NOUN'), ('social', 'ADJ'), ('media', 'NOUN'), ('users', 'NOUN'), ('to', 'PRT'), ('experience', 'NOUN'), ('the', 'DET'), ('launch', 'NOUN'), ('of', 'ADP'), ('ICESAT-2', 'DET'), ('Satellite', 'NOUN'), ('.', '.')]\n",
      "====================================================================================================\n"
     ]
    }
   ],
   "source": [
    "####Evaluating Test Cases\n",
    "for sentence_test in test_cases:\n",
    "    words = word_tokenize(sentence_test)\n",
    "    tagged_seq = viterbi_probabilistic_1tag.viterbi(words,test_case=True)\n",
    "    print(tagged_seq)\n",
    "    print(\"====================================================================================================\")"
   ]
  },
  {
   "cell_type": "markdown",
   "metadata": {
    "collapsed": true
   },
   "source": [
    "##### Observations: Accuracy of the model is 94.15%. However it doesnt do well on test cases"
   ]
  },
  {
   "cell_type": "markdown",
   "metadata": {},
   "source": [
    "### 2.3 Probablistic - Considering previous and next tag"
   ]
  },
  {
   "cell_type": "markdown",
   "metadata": {},
   "source": [
    "##### Unknown words are tagged based on the highest probable tag given the previous tag and the next tag. The next tag is found using the Bayes Rule - P(Tag|Word) = P(Word|Tag) * P(Tag) and we can obtain P(Word|Tag)  from Emission Probability table"
   ]
  },
  {
   "cell_type": "code",
   "execution_count": 25,
   "metadata": {
    "collapsed": true
   },
   "outputs": [],
   "source": [
    "class HMM_Viterbi_Modified_Prob(HMM_Base):\n",
    "    '''\n",
    "    Tagging unkown words considering previous tag and the next tag(found using Bayes Rule)\n",
    "    '''\n",
    "    \n",
    "    def __init__(self,nltk_data):\n",
    "        super().__init__(nltk_data)\n",
    "        self.lookup_before_n_after_tag={}\n",
    "        self.default_tag=self.most_common_tag()     \n",
    "        \n",
    "    def __call__(self):\n",
    "        super().__call__()\n",
    "        self.check_before_after_tags()\n",
    "        self.prob_of_tags=self.find_prob_of_tags()\n",
    "    \n",
    "    ####Finding probability of 12 tags\n",
    "    def find_prob_of_tags(self):\n",
    "        list_tags=[pos for word,pos in self.train_tagged_words]\n",
    "        tag_prob={key:Counter(list_tags)[key]/len(list_tags) for key in Counter(list_tags)}\n",
    "        return (pd.Series(tag_prob,index=self.T))\n",
    "    \n",
    "    ####Creating a lookup based on trainset equivalent mapping of {(prev_tag,next_tag):current_tag}\n",
    "    def check_before_after_tags(self):\n",
    "        for sent in self.train_set:\n",
    "            for index, (word, pos) in enumerate(sent):\n",
    "                if len(sent)>1:\n",
    "                    if index == 0 :\n",
    "                        if (None,sent[index+1][1]) not in self.lookup_before_n_after_tag :\n",
    "                            self.lookup_before_n_after_tag[(None,sent[index+1][1])]=[pos]              \n",
    "                        else:\n",
    "                            self.lookup_before_n_after_tag[(None,sent[index+1][1])].append(pos)\n",
    "               \n",
    "                    elif index == len(sent)-1:\n",
    "                        if (sent[index-1][1],None) not in self.lookup_before_n_after_tag:\n",
    "                            self.lookup_before_n_after_tag[(sent[index-1][1],None)]=[pos]\n",
    "                        else:\n",
    "                            self.lookup_before_n_after_tag[(sent[index-1][1],None)].append(pos)\n",
    "                \n",
    "                    else:\n",
    "                        if (sent[index-1][1],sent[index+1][1]) not in self.lookup_before_n_after_tag:\n",
    "                            self.lookup_before_n_after_tag[(sent[index-1][1],sent[index+1][1])]= [pos]\n",
    "                        else:\n",
    "                            self.lookup_before_n_after_tag[(sent[index-1][1],sent[index+1][1])].append(pos)\n",
    "    \n",
    "    ####Returns most likely tag given previous tag and next tag\n",
    "    def get_tag_likely(self,before_after_tag):\n",
    "        if before_after_tag in self.lookup_before_n_after_tag:\n",
    "            return Counter(self.lookup_before_n_after_tag[before_after_tag]).most_common(1)[0][0]\n",
    "        else:\n",
    "            return self.default_tag\n",
    "    \n",
    "    ####Overriding base viterbi implementation to take care of unknown words\n",
    "    def viterbi(self,words,test_case=False):\n",
    "        state = []\n",
    "        unknown_words=[]\n",
    "        for key, word in enumerate(words):\n",
    "            p = []\n",
    "            if word in self.V:\n",
    "                for tag in self.T:\n",
    "                    if key == 0:\n",
    "                        transition_p = self.transitions.loc['.', tag]\n",
    "                    else:\n",
    "                        transition_p = self.transitions.loc[state[-1], tag]\n",
    "                \n",
    "                    emission_p = self.emissions.loc[tag,word]\n",
    "                    state_probability = emission_p * transition_p    \n",
    "                    p.append(state_probability)\n",
    "\n",
    "                pmax = max(p)\n",
    "                state_max = self.T[p.index(pmax)] \n",
    "                state.append(state_max)\n",
    "            \n",
    "            else:\n",
    "                unknown_words.append(word)\n",
    "                if key==0 and words[key+1] in self.V:\n",
    "                    prev_tag=None\n",
    "                    next_tag=(self.emissions[words[key+1]]*self.prob_of_tags).idxmax()\n",
    "                    prev_tag_available, next_tag_available=1,1\n",
    "                elif key==len(words)-1 and words[key-1] in self.V:\n",
    "                    prev_tag=(self.emissions[words[key-1]]*self.prob_of_tags).idxmax()\n",
    "                    next_tag=None\n",
    "                    prev_tag_available, next_tag_available=1,1\n",
    "                elif words[key-1] in self.V and words[key+1] in self.V: \n",
    "                    prev_tag=(self.emissions[words[key-1]]*self.prob_of_tags).idxmax()\n",
    "                    next_tag=(self.emissions[words[key+1]]*self.prob_of_tags).idxmax()\n",
    "                    prev_tag_available, next_tag_available=1,1\n",
    "                else: \n",
    "                    prev_tag_available, next_tag_available=0,0\n",
    "                    word_state=self.default_tag\n",
    "\n",
    "                if prev_tag_available ==1 and next_tag_available ==1:\n",
    "                    word_state=self.get_tag_likely((prev_tag,next_tag))\n",
    "                    #print(word, prev_tag,next_tag,word_state)\n",
    "                \n",
    "                state.append(word_state)\n",
    "            \n",
    "        if test_case:\n",
    "            print(\"Unknown Words---->\", unknown_words)\n",
    "        return list(zip(words, state))"
   ]
  },
  {
   "cell_type": "code",
   "execution_count": 26,
   "metadata": {
    "collapsed": true
   },
   "outputs": [],
   "source": [
    "viterbi_modified_prob=HMM_Viterbi_Modified_Prob(nltk_data)\n",
    "viterbi_modified_prob()"
   ]
  },
  {
   "cell_type": "code",
   "execution_count": 27,
   "metadata": {},
   "outputs": [
    {
     "name": "stdout",
     "output_type": "stream",
     "text": [
      "Accuracy of HMM:  0.9423223834988541\n",
      "Time taken in seconds:  8.378200769424438\n"
     ]
    }
   ],
   "source": [
    "start = time.time()\n",
    "tagged_seq=viterbi_modified_prob.viterbi(viterbi_modified_prob.test_tagged_words)\n",
    "accuracy=viterbi_modified_prob.check_accuracy(viterbi_modified_prob.test_set,tagged_seq)\n",
    "print(\"Accuracy of HMM: \", accuracy)\n",
    "print(\"Time taken in seconds: \", time.time()-start)"
   ]
  },
  {
   "cell_type": "code",
   "execution_count": 28,
   "metadata": {},
   "outputs": [
    {
     "name": "stdout",
     "output_type": "stream",
     "text": [
      "Unknown Words----> ['Android', 'Google']\n",
      "[('Android', 'NOUN'), ('is', 'VERB'), ('a', 'DET'), ('mobile', 'ADJ'), ('operating', 'NOUN'), ('system', 'NOUN'), ('developed', 'VERB'), ('by', 'ADP'), ('Google', 'NOUN'), ('.', '.')]\n",
      "====================================================================================================\n",
      "Unknown Words----> ['Android', 'OS', 'worldwide', 'smartphones', '2011', '2013']\n",
      "[('Android', 'NOUN'), ('has', 'VERB'), ('been', 'VERB'), ('the', 'DET'), ('best-selling', 'ADJ'), ('OS', 'NOUN'), ('worldwide', 'NOUN'), ('on', 'ADP'), ('smartphones', 'NOUN'), ('since', 'ADP'), ('2011', 'NOUN'), ('and', 'CONJ'), ('on', 'ADP'), ('tablets', 'NOUN'), ('since', 'ADP'), ('2013', 'NOUN'), ('.', '.')]\n",
      "====================================================================================================\n",
      "Unknown Words----> ['Google', 'Twitter', '2015', 'Google', 'Twitter', 'firehose']\n",
      "[('Google', 'NOUN'), ('and', 'CONJ'), ('Twitter', 'NOUN'), ('made', 'VERB'), ('a', 'DET'), ('deal', 'NOUN'), ('in', 'ADP'), ('2015', 'NOUN'), ('that', 'ADP'), ('gave', 'VERB'), ('Google', 'DET'), ('access', 'NOUN'), ('to', 'PRT'), ('Twitter', 'VERB'), (\"'s\", 'PRT'), ('firehose', 'NOUN'), ('.', '.')]\n",
      "====================================================================================================\n",
      "Unknown Words----> ['Twitter', 'online', 'interact', 'messages', 'tweets']\n",
      "[('Twitter', 'NOUN'), ('is', 'VERB'), ('an', 'DET'), ('online', 'ADJ'), ('news', 'NOUN'), ('and', 'CONJ'), ('social', 'ADJ'), ('networking', 'NOUN'), ('service', 'NOUN'), ('on', 'ADP'), ('which', 'DET'), ('users', 'NOUN'), ('post', 'NOUN'), ('and', 'CONJ'), ('interact', 'NOUN'), ('with', 'ADP'), ('messages', 'X'), ('known', 'VERB'), ('as', 'ADP'), ('tweets', 'NOUN'), ('.', '.')]\n",
      "====================================================================================================\n",
      "Unknown Words----> ['domineering', 'personality']\n",
      "[('Before', 'ADP'), ('entering', 'VERB'), ('politics', 'NOUN'), (',', '.'), ('Donald', 'NOUN'), ('Trump', 'NOUN'), ('was', 'VERB'), ('a', 'DET'), ('domineering', 'ADJ'), ('businessman', 'NOUN'), ('and', 'CONJ'), ('a', 'DET'), ('television', 'NOUN'), ('personality', 'NOUN'), ('.', '.')]\n",
      "====================================================================================================\n",
      "Unknown Words----> ['2018', 'FIFA', 'Cup', '21st', 'FIFA', 'Cup', 'tournament', 'contested']\n",
      "[('The', 'DET'), ('2018', 'NOUN'), ('FIFA', 'NOUN'), ('World', 'NOUN'), ('Cup', 'NOUN'), ('is', 'VERB'), ('the', 'DET'), ('21st', 'NOUN'), ('FIFA', 'NOUN'), ('World', 'NOUN'), ('Cup', 'NOUN'), (',', '.'), ('an', 'DET'), ('international', 'ADJ'), ('football', 'NOUN'), ('tournament', 'NOUN'), ('contested', 'NOUN'), ('once', 'ADV'), ('every', 'DET'), ('four', 'NUM'), ('years', 'NOUN'), ('.', '.')]\n",
      "====================================================================================================\n",
      "Unknown Words----> ['Cup', '11th']\n",
      "[('This', 'DET'), ('is', 'VERB'), ('the', 'DET'), ('first', 'ADJ'), ('World', 'NOUN'), ('Cup', 'NOUN'), ('to', 'PRT'), ('be', 'VERB'), ('held', 'VERB'), ('in', 'ADP'), ('Eastern', 'NOUN'), ('Europe', 'NOUN'), ('and', 'CONJ'), ('the', 'DET'), ('11th', 'ADJ'), ('time', 'NOUN'), ('that', 'ADP'), ('it', 'PRON'), ('has', 'VERB'), ('been', 'VERB'), ('held', 'VERB'), ('in', 'ADP'), ('Europe', 'NOUN'), ('.', '.')]\n",
      "====================================================================================================\n",
      "Unknown Words----> ['trips']\n",
      "[('Show', 'NOUN'), ('me', 'PRON'), ('the', 'DET'), ('cheapest', 'ADJ'), ('round', 'NOUN'), ('trips', 'NOUN'), ('from', 'ADP'), ('Dallas', 'NOUN'), ('to', 'PRT'), ('Atlanta', 'NOUN')]\n",
      "====================================================================================================\n",
      "Unknown Words----> ['Denver']\n",
      "[('I', 'PRON'), ('would', 'VERB'), ('like', 'ADP'), ('to', 'PRT'), ('see', 'VERB'), ('flights', 'NOUN'), ('from', 'ADP'), ('Denver', 'NOUN'), ('to', 'PRT'), ('Philadelphia', 'NOUN'), ('.', '.')]\n",
      "====================================================================================================\n",
      "Unknown Words----> ['arriving']\n",
      "[('Show', 'NOUN'), ('me', 'PRON'), ('the', 'DET'), ('price', 'NOUN'), ('of', 'ADP'), ('the', 'DET'), ('flights', 'NOUN'), ('leaving', 'VERB'), ('Atlanta', 'NOUN'), ('at', 'ADP'), ('about', 'ADP'), ('3', 'NUM'), ('in', 'ADP'), ('the', 'DET'), ('afternoon', 'NOUN'), ('and', 'CONJ'), ('arriving', 'NOUN'), ('in', 'ADP'), ('San', 'NOUN'), ('Francisco', 'NOUN'), ('.', '.')]\n",
      "====================================================================================================\n",
      "Unknown Words----> ['NASA', 'invited', 'ICESAT-2', 'Satellite']\n",
      "[('NASA', 'NOUN'), ('invited', 'NOUN'), ('social', 'ADJ'), ('media', 'NOUN'), ('users', 'NOUN'), ('to', 'PRT'), ('experience', 'NOUN'), ('the', 'DET'), ('launch', 'NOUN'), ('of', 'ADP'), ('ICESAT-2', 'NOUN'), ('Satellite', 'NOUN'), ('.', '.')]\n",
      "====================================================================================================\n"
     ]
    }
   ],
   "source": [
    "####Evaluating Test Cases\n",
    "for sentence_test in test_cases:\n",
    "    words = word_tokenize(sentence_test)\n",
    "    tagged_seq = viterbi_modified_prob.viterbi(words,test_case=True)\n",
    "    print(tagged_seq)\n",
    "    print(\"====================================================================================================\")"
   ]
  },
  {
   "cell_type": "markdown",
   "metadata": {
    "collapsed": true
   },
   "source": [
    "##### Observations: Accuracy of the model is 94.23% . Model is able to predict most NOUN tags correctly without being defaulted to and also other tags as well for words such as 11th , domineering etc"
   ]
  },
  {
   "cell_type": "markdown",
   "metadata": {},
   "source": [
    "### 3. Rule Based"
   ]
  },
  {
   "cell_type": "code",
   "execution_count": 29,
   "metadata": {
    "collapsed": true
   },
   "outputs": [],
   "source": [
    "class HMM_Viterbi_RuleBased(HMM_Base):\n",
    "    \n",
    "    patterns=[(r'\\w+-\\w+', 'ADJ'),             \n",
    "              (r'.*(ed|en|ate|fy|ing)$', 'VERB'), \n",
    "              (r'.*(ly|lly)$', 'ADV'),\n",
    "              (r'.*(ic|able|ible|ous|ical|ive|hy|ial|ful|ist)$', 'ADJ'),\n",
    "              (r'.*(\\'s|ies)$', 'NOUN'),              \n",
    "              (r'.*(ment|ness|ism|ion|ship|hood|age)$', 'NOUN'), \n",
    "              (r'(\\*)+(.)*', 'X'),\n",
    "              (r'[0-9]+(st|nd|rd|th)$', 'ADJ'), \n",
    "              (r'^-?[0-9]+([,0-9]+)*(.[0-9]+)?(st|nd|rd|th)?$', 'NUM'), \n",
    "              (r'.*', 'NOUN')                    \n",
    "             ]\n",
    "    regexp_tagger = nltk.RegexpTagger(patterns)\n",
    "    \n",
    "    def __init__(self,nltk_data):\n",
    "        super().__init__(nltk_data)\n",
    "        \n",
    "    @classmethod    \n",
    "    def find_tag(cls,word):\n",
    "        return cls.regexp_tagger.tag([word])[0][1]\n",
    "\n",
    "        \n",
    "    def viterbi(self, words, test_case=False):\n",
    "        state = []\n",
    "        unknown_words=[]\n",
    "        for key, word in enumerate(words):\n",
    "            #initialise list of probability column for a given observation\n",
    "            p = []\n",
    "            if word in self.V:\n",
    "                for tag in self.T:\n",
    "                    if key == 0:\n",
    "                        transition_p = self.transitions.loc['.', tag]\n",
    "                    else:\n",
    "                        transition_p = self.transitions.loc[state[-1], tag]\n",
    "                \n",
    "                    # compute emission and state probabilities\n",
    "                    emission_p = self.emissions.loc[tag,word]\n",
    "\n",
    "                    state_probability = emission_p * transition_p    \n",
    "                    p.append(state_probability)\n",
    "\n",
    "                pmax = max(p)\n",
    "\n",
    "                # getting state for which probability is maximum\n",
    "                state_max = self.T[p.index(pmax)] \n",
    "                state.append(state_max)\n",
    "            \n",
    "            else:\n",
    "                unknown_words.append(word)\n",
    "                word_state=self.find_tag(word)\n",
    "                state.append(word_state)\n",
    "            \n",
    "        if test_case:\n",
    "            print(\"Unknown Words---->\", unknown_words)\n",
    "        return list(zip(words, state))\n",
    "    "
   ]
  },
  {
   "cell_type": "code",
   "execution_count": 30,
   "metadata": {
    "collapsed": true
   },
   "outputs": [],
   "source": [
    "viterbi_rule_based=HMM_Viterbi_RuleBased(nltk_data)\n",
    "viterbi_rule_based()"
   ]
  },
  {
   "cell_type": "code",
   "execution_count": 31,
   "metadata": {},
   "outputs": [
    {
     "name": "stdout",
     "output_type": "stream",
     "text": [
      "Accuracy of HMM:  0.9618029029793735\n",
      "Time taken in seconds:  6.627201557159424\n"
     ]
    }
   ],
   "source": [
    "####Checking accuracy of the model\n",
    "start = time.time()\n",
    "tagged_seq=viterbi_rule_based.viterbi(viterbi_rule_based.test_tagged_words)\n",
    "accuracy=viterbi_rule_based.check_accuracy(viterbi_rule_based.test_set,tagged_seq)\n",
    "print(\"Accuracy of HMM: \", accuracy)\n",
    "print(\"Time taken in seconds: \", time.time()-start)"
   ]
  },
  {
   "cell_type": "code",
   "execution_count": 32,
   "metadata": {},
   "outputs": [
    {
     "name": "stdout",
     "output_type": "stream",
     "text": [
      "Unknown Words----> ['Android', 'Google']\n",
      "[('Android', 'NOUN'), ('is', 'VERB'), ('a', 'DET'), ('mobile', 'ADJ'), ('operating', 'NOUN'), ('system', 'NOUN'), ('developed', 'VERB'), ('by', 'ADP'), ('Google', 'NOUN'), ('.', '.')]\n",
      "====================================================================================================\n",
      "Unknown Words----> ['Android', 'OS', 'worldwide', 'smartphones', '2011', '2013']\n",
      "[('Android', 'NOUN'), ('has', 'VERB'), ('been', 'VERB'), ('the', 'DET'), ('best-selling', 'ADJ'), ('OS', 'NOUN'), ('worldwide', 'NOUN'), ('on', 'ADP'), ('smartphones', 'NOUN'), ('since', 'ADP'), ('2011', 'NUM'), ('and', 'CONJ'), ('on', 'ADP'), ('tablets', 'NOUN'), ('since', 'ADP'), ('2013', 'NUM'), ('.', '.')]\n",
      "====================================================================================================\n",
      "Unknown Words----> ['Google', 'Twitter', '2015', 'Google', 'Twitter', 'firehose']\n",
      "[('Google', 'NOUN'), ('and', 'CONJ'), ('Twitter', 'NOUN'), ('made', 'VERB'), ('a', 'DET'), ('deal', 'NOUN'), ('in', 'ADP'), ('2015', 'NUM'), ('that', 'ADP'), ('gave', 'VERB'), ('Google', 'NOUN'), ('access', 'NOUN'), ('to', 'PRT'), ('Twitter', 'NOUN'), (\"'s\", 'PRT'), ('firehose', 'NOUN'), ('.', '.')]\n",
      "====================================================================================================\n",
      "Unknown Words----> ['Twitter', 'online', 'interact', 'messages', 'tweets']\n",
      "[('Twitter', 'NOUN'), ('is', 'VERB'), ('an', 'DET'), ('online', 'NOUN'), ('news', 'NOUN'), ('and', 'CONJ'), ('social', 'ADJ'), ('networking', 'NOUN'), ('service', 'NOUN'), ('on', 'ADP'), ('which', 'DET'), ('users', 'NOUN'), ('post', 'NOUN'), ('and', 'CONJ'), ('interact', 'NOUN'), ('with', 'ADP'), ('messages', 'NOUN'), ('known', 'VERB'), ('as', 'ADP'), ('tweets', 'NOUN'), ('.', '.')]\n",
      "====================================================================================================\n",
      "Unknown Words----> ['domineering', 'personality']\n",
      "[('Before', 'ADP'), ('entering', 'VERB'), ('politics', 'NOUN'), (',', '.'), ('Donald', 'NOUN'), ('Trump', 'NOUN'), ('was', 'VERB'), ('a', 'DET'), ('domineering', 'VERB'), ('businessman', 'NOUN'), ('and', 'CONJ'), ('a', 'DET'), ('television', 'NOUN'), ('personality', 'NOUN'), ('.', '.')]\n",
      "====================================================================================================\n",
      "Unknown Words----> ['2018', 'FIFA', 'Cup', '21st', 'FIFA', 'Cup', 'tournament', 'contested']\n",
      "[('The', 'DET'), ('2018', 'NUM'), ('FIFA', 'NOUN'), ('World', 'NOUN'), ('Cup', 'NOUN'), ('is', 'VERB'), ('the', 'DET'), ('21st', 'ADJ'), ('FIFA', 'NOUN'), ('World', 'NOUN'), ('Cup', 'NOUN'), (',', '.'), ('an', 'DET'), ('international', 'ADJ'), ('football', 'NOUN'), ('tournament', 'NOUN'), ('contested', 'VERB'), ('once', 'ADV'), ('every', 'DET'), ('four', 'NUM'), ('years', 'NOUN'), ('.', '.')]\n",
      "====================================================================================================\n",
      "Unknown Words----> ['Cup', '11th']\n",
      "[('This', 'DET'), ('is', 'VERB'), ('the', 'DET'), ('first', 'ADJ'), ('World', 'NOUN'), ('Cup', 'NOUN'), ('to', 'PRT'), ('be', 'VERB'), ('held', 'VERB'), ('in', 'ADP'), ('Eastern', 'NOUN'), ('Europe', 'NOUN'), ('and', 'CONJ'), ('the', 'DET'), ('11th', 'ADJ'), ('time', 'NOUN'), ('that', 'ADP'), ('it', 'PRON'), ('has', 'VERB'), ('been', 'VERB'), ('held', 'VERB'), ('in', 'ADP'), ('Europe', 'NOUN'), ('.', '.')]\n",
      "====================================================================================================\n",
      "Unknown Words----> ['trips']\n",
      "[('Show', 'NOUN'), ('me', 'PRON'), ('the', 'DET'), ('cheapest', 'ADJ'), ('round', 'NOUN'), ('trips', 'NOUN'), ('from', 'ADP'), ('Dallas', 'NOUN'), ('to', 'PRT'), ('Atlanta', 'NOUN')]\n",
      "====================================================================================================\n",
      "Unknown Words----> ['Denver']\n",
      "[('I', 'PRON'), ('would', 'VERB'), ('like', 'ADP'), ('to', 'PRT'), ('see', 'VERB'), ('flights', 'NOUN'), ('from', 'ADP'), ('Denver', 'NOUN'), ('to', 'PRT'), ('Philadelphia', 'NOUN'), ('.', '.')]\n",
      "====================================================================================================\n",
      "Unknown Words----> ['arriving']\n",
      "[('Show', 'NOUN'), ('me', 'PRON'), ('the', 'DET'), ('price', 'NOUN'), ('of', 'ADP'), ('the', 'DET'), ('flights', 'NOUN'), ('leaving', 'VERB'), ('Atlanta', 'NOUN'), ('at', 'ADP'), ('about', 'ADP'), ('3', 'NUM'), ('in', 'ADP'), ('the', 'DET'), ('afternoon', 'NOUN'), ('and', 'CONJ'), ('arriving', 'VERB'), ('in', 'ADP'), ('San', 'NOUN'), ('Francisco', 'NOUN'), ('.', '.')]\n",
      "====================================================================================================\n",
      "Unknown Words----> ['NASA', 'invited', 'ICESAT-2', 'Satellite']\n",
      "[('NASA', 'NOUN'), ('invited', 'VERB'), ('social', 'ADJ'), ('media', 'NOUN'), ('users', 'NOUN'), ('to', 'PRT'), ('experience', 'NOUN'), ('the', 'DET'), ('launch', 'NOUN'), ('of', 'ADP'), ('ICESAT-2', 'ADJ'), ('Satellite', 'NOUN'), ('.', '.')]\n",
      "====================================================================================================\n"
     ]
    }
   ],
   "source": [
    "####Evaluating Test Cases\n",
    "for sentence_test in test_cases:\n",
    "    words = word_tokenize(sentence_test)\n",
    "    tagged_seq = viterbi_rule_based.viterbi(words,test_case=True)\n",
    "    print(tagged_seq)\n",
    "    print(\"====================================================================================================\")"
   ]
  },
  {
   "cell_type": "markdown",
   "metadata": {
    "collapsed": true
   },
   "source": [
    "##### Observations: Accuracy of the model is 96.18% . Model is able to predict most of the tags correctly"
   ]
  },
  {
   "cell_type": "markdown",
   "metadata": {},
   "source": [
    "### Evaluating Test Set"
   ]
  },
  {
   "cell_type": "code",
   "execution_count": 33,
   "metadata": {
    "collapsed": true
   },
   "outputs": [],
   "source": [
    "####Helper Fn to evaulate test data.\n",
    "def evaluate_accuracy(path='Test_sentences.txt',model=viterbi_rule_based):\n",
    "    '''\n",
    "    Available model objects - viterbi_base,viterbi_lexicon,viterbi_probabilistic_2tags,\n",
    "    viterbi_probabilistic_1tag,viterbi_modified_prob,viterbi_rule_based\n",
    "    '''\n",
    "    with open(path) as f:\n",
    "        for sentence_test in f:\n",
    "            words = word_tokenize(sentence_test)\n",
    "            tagged_seq = model.viterbi(words,test_case=True)\n",
    "            print(tagged_seq)\n",
    "            print(\"====================================================================================================\") "
   ]
  },
  {
   "cell_type": "code",
   "execution_count": 34,
   "metadata": {
    "collapsed": true
   },
   "outputs": [],
   "source": [
    "#Provide path and model var to evaluate \n",
    "#evaluate_accuracy(path='Test_sentences.txt',model=viterbi_rule_based)"
   ]
  },
  {
   "cell_type": "markdown",
   "metadata": {},
   "source": [
    "### Compare the tagging accuracies of the modifications with the vanilla Viterbi algorithm"
   ]
  },
  {
   "attachments": {
    "image.png": {
     "image/png": "[encoded data removed]"
    }
   },
   "cell_type": "markdown",
   "metadata": {
    "collapsed": true
   },
   "source": [
    "![image.png](attachment:image.png)"
   ]
  },
  {
   "cell_type": "markdown",
   "metadata": {},
   "source": [
    "### List down cases which were incorrectly tagged by original POS tagger and got corrected by your modifications"
   ]
  },
  {
   "cell_type": "markdown",
   "metadata": {},
   "source": [
    "##### Probabilistic model using Bayes Theorem and Rule Based Model perform better"
   ]
  },
  {
   "cell_type": "markdown",
   "metadata": {},
   "source": [
    "##### Following unknown words have been correctly identified by Probabilistic model which were incorrecty tagged by Original POS tagger - 'Android','Google','smartphones', 'Twitter', 'firehose','tweets','domineering ','personality', 'Cup',  'Cup', '11th','trips','Denver','NASA','Satellite'"
   ]
  },
  {
   "cell_type": "markdown",
   "metadata": {
    "collapsed": true
   },
   "source": [
    "##### Following unknown words have been correctly identified by Rule Based model which were incorrecty tagged by Original POS tagger - 'Android','Google','OS', 'worldwide', 'smartphones', '2011', '2013','2015', 'Google', 'Twitter', 'firehose','messages', 'tweets','personality','2018', '21st', 'FIFA', 'Cup', 'tournament', 'contested','Cup', '11th','trips','Denver','NASA', 'invited', 'ICESAT-2', 'Satellite'"
   ]
  },
  {
   "cell_type": "code",
   "execution_count": null,
   "metadata": {
    "collapsed": true
   },
   "outputs": [],
   "source": []
  }
 ],
 "metadata": {
  "kernelspec": {
   "display_name": "Python 3",
   "language": "python",
   "name": "python3"
  },
  "language_info": {
   "codemirror_mode": {
    "name": "ipython",
    "version": 3
   },
   "file_extension": ".py",
   "mimetype": "text/x-python",
   "name": "python",
   "nbconvert_exporter": "python",
   "pygments_lexer": "ipython3",
   "version": "3.6.7"
  }
 },
 "nbformat": 4,
 "nbformat_minor": 2
}
